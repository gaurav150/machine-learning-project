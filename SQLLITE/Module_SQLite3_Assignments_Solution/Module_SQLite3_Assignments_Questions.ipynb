{
 "cells": [
  {
   "cell_type": "markdown",
   "id": "964cf61d",
   "metadata": {},
   "source": [
    "# Module: SQLite3 Assignments\n",
    "## Lesson: SQLite3\n",
    "### Assignment 1: Creating and Connecting to a Database\n",
    "\n",
    "1. Write a Python function to create a new SQLite3 database named `test.db`.\n",
    "2. Write a Python function to create a table named `employees` with columns `id` (integer), `name` (text), `age` (integer), and `department` (text) in the `test.db` database.\n",
    "\n",
    "### Assignment 2: Inserting Data\n",
    "\n",
    "1. Write a Python function to insert a new employee into the `employees` table.\n",
    "2. Insert at least 5 different employees into the `employees` table.\n",
    "\n",
    "### Assignment 3: Querying Data\n",
    "\n",
    "1. Write a Python function to fetch and display all records from the `employees` table.\n",
    "2. Write a Python function to fetch and display all employees from a specific department.\n",
    "\n",
    "### Assignment 4: Updating Data\n",
    "\n",
    "1. Write a Python function to update the department of an employee based on their `id`.\n",
    "2. Update the department of at least 2 employees and display the updated records.\n",
    "\n",
    "### Assignment 5: Deleting Data\n",
    "\n",
    "1. Write a Python function to delete an employee from the `employees` table based on their `id`.\n",
    "2. Delete at least 1 employee and display the remaining records.\n",
    "\n",
    "### Assignment 6: Advanced Queries\n",
    "\n",
    "1. Write a Python function to fetch and display employees older than a certain age.\n",
    "2. Write a Python function to fetch and display employees whose names start with a specific letter.\n",
    "\n",
    "### Assignment 7: Handling Transactions\n",
    "\n",
    "1. Write a Python function to insert multiple employees into the `employees` table in a single transaction. Ensure that if any insertion fails, none of the insertions are committed.\n",
    "2. Write a Python function to update the age of multiple employees in a single transaction. Ensure that if any update fails, none of the updates are committed.\n",
    "\n",
    "### Assignment 8: Creating Relationships\n",
    "\n",
    "1. Create a new table named `departments` with columns `id` (integer) and `name` (text).\n",
    "2. Modify the `employees` table to include a foreign key referencing the `id` column in the `departments` table.\n",
    "3. Write a Python function to insert data into both the `departments` and `employees` tables, ensuring referential integrity.\n",
    "\n",
    "### Assignment 9: Indexing and Optimization\n",
    "\n",
    "1. Create an index on the `name` column of the `employees` table.\n",
    "2. Write a Python function to fetch and display all employees whose names start with a specific letter. Compare the performance with and without the index.\n",
    "\n",
    "### Assignment 10: Backing Up and Restoring Data\n",
    "\n",
    "1. Write a Python function to back up the `test.db` database to a file named `backup.db`.\n",
    "2. Write a Python function to restore the `test.db` database from the `backup.db` file."
   ]
  },
  {
   "cell_type": "code",
   "execution_count": 1,
   "id": "9f57d88d",
   "metadata": {},
   "outputs": [],
   "source": [
    "import sqlite3 as sq"
   ]
  },
  {
   "cell_type": "code",
   "execution_count": 2,
   "id": "9667f9ad-a5a9-46ff-a874-915e8e70099b",
   "metadata": {},
   "outputs": [
    {
     "data": {
      "text/plain": [
       "<sqlite3.Connection at 0x16ca1b8bd30>"
      ]
     },
     "execution_count": 2,
     "metadata": {},
     "output_type": "execute_result"
    }
   ],
   "source": [
    "## Connect to an sqllite database\n",
    "connection =sq.connect('example.db')\n",
    "connection"
   ]
  },
  {
   "cell_type": "code",
   "execution_count": 3,
   "id": "7c31d318-8fea-481e-816e-35fafe8c9047",
   "metadata": {},
   "outputs": [],
   "source": [
    "cursor =connection.cursor()"
   ]
  },
  {
   "cell_type": "code",
   "execution_count": 4,
   "id": "4fef12a6-e1f4-404d-a448-5286cbda2f8e",
   "metadata": {},
   "outputs": [],
   "source": [
    "## Create a Table\n",
    "cursor.execute('''\n",
    "Create Table if Not Exists employees(\n",
    "                    id Integer Primary Key,\n",
    "                    name Varchar Not Null,\n",
    "                    age INT,\n",
    "                    department Varchar\n",
    ")\n",
    "''')\n",
    "\n",
    "## commit the changes\n",
    "connection.commit()"
   ]
  },
  {
   "cell_type": "code",
   "execution_count": 5,
   "id": "7fe0d4f0-29fb-4c4e-89d0-0643ee3b471d",
   "metadata": {},
   "outputs": [
    {
     "data": {
      "text/plain": [
       "<sqlite3.Cursor at 0x16ca1d90c40>"
      ]
     },
     "execution_count": 5,
     "metadata": {},
     "output_type": "execute_result"
    }
   ],
   "source": [
    "cursor.execute(\n",
    "    '''\n",
    "    Select * From  employees\n",
    "    '''\n",
    ")"
   ]
  },
  {
   "cell_type": "code",
   "execution_count": 6,
   "id": "e670d3d8-8cab-4d46-b22c-503b226729f9",
   "metadata": {},
   "outputs": [],
   "source": [
    "## insert the data in sqllite3\n",
    "cursor.execute(\"\"\"\n",
    "Insert into employees(name,age,department)\n",
    "VALUES('KRISH',32,'DATA SCIENTIST')\n",
    "\"\"\")\n",
    "\n",
    "cursor.execute(\"\"\"\n",
    "Insert into employees(name,age,department)\n",
    "VALUES('BOB',25,'DATA ANALYST')\n",
    "\"\"\")\n",
    "\n",
    "cursor.execute(\"\"\"\n",
    "Insert into employees(name,age,department)\n",
    "VALUES('CHARLIE',39,'DATA ENGINEER')\n",
    "\"\"\")\n",
    "\n",
    "connection.commit()"
   ]
  },
  {
   "cell_type": "code",
   "execution_count": 7,
   "id": "cacc31d7-8e09-4d86-a131-e902b1ab3fa0",
   "metadata": {},
   "outputs": [
    {
     "name": "stdout",
     "output_type": "stream",
     "text": [
      "(1, 'KRISH', 34, 'DATA SCIENTIST')\n",
      "(3, 'CHARLIE', 39, 'DATA ENGINEER')\n",
      "(4, 'KRISH', 32, 'DATA SCIENTIST')\n",
      "(5, 'BOB', 25, 'DATA ANALYST')\n",
      "(6, 'CHARLIE', 39, 'DATA ENGINEER')\n"
     ]
    }
   ],
   "source": [
    "## querying the  data from the table\n",
    "cursor.execute('''\n",
    "Select * from employees\n",
    "''')\n",
    "rows = cursor.fetchall()\n",
    "\n",
    "## print the queried data\n",
    "for ele in rows:\n",
    "    print(ele)"
   ]
  },
  {
   "cell_type": "code",
   "execution_count": 8,
   "id": "dc803b88-a47e-40fe-b019-376adfba392e",
   "metadata": {},
   "outputs": [],
   "source": [
    "## update the  data in the table\n",
    "cursor.execute('''\n",
    "UPDATE employees \n",
    "set  age = 34\n",
    "where name = \"KRISH\"\n",
    "''')\n",
    "\n",
    "connection.commit()"
   ]
  },
  {
   "cell_type": "code",
   "execution_count": 9,
   "id": "367c74da-7a38-4ba8-b382-d8172e8be013",
   "metadata": {},
   "outputs": [
    {
     "name": "stdout",
     "output_type": "stream",
     "text": [
      "(1, 'KRISH', 34, 'DATA SCIENTIST')\n",
      "(3, 'CHARLIE', 39, 'DATA ENGINEER')\n",
      "(4, 'KRISH', 34, 'DATA SCIENTIST')\n",
      "(5, 'BOB', 25, 'DATA ANALYST')\n",
      "(6, 'CHARLIE', 39, 'DATA ENGINEER')\n"
     ]
    }
   ],
   "source": [
    "## querying the  data from the table\n",
    "cursor.execute('''\n",
    "Select * from employees\n",
    "''')\n",
    "rows = cursor.fetchall()\n",
    "\n",
    "## print the queried data\n",
    "for ele in rows:\n",
    "    print(ele)"
   ]
  },
  {
   "cell_type": "code",
   "execution_count": 10,
   "id": "b100b7e6-a1f0-47c6-ac2f-266869c0a2c9",
   "metadata": {},
   "outputs": [],
   "source": [
    "## deleting the  data from the table\n",
    "cursor.execute(\"\"\"\n",
    "Delete  from employees\n",
    "where name = 'BOB'\n",
    "\"\"\")\n",
    "connection.commit()\n"
   ]
  },
  {
   "cell_type": "code",
   "execution_count": 11,
   "id": "f855eb76-33f3-47b6-822a-81653d6c69db",
   "metadata": {},
   "outputs": [
    {
     "name": "stdout",
     "output_type": "stream",
     "text": [
      "(1, 'KRISH', 34, 'DATA SCIENTIST')\n",
      "(3, 'CHARLIE', 39, 'DATA ENGINEER')\n",
      "(4, 'KRISH', 34, 'DATA SCIENTIST')\n",
      "(6, 'CHARLIE', 39, 'DATA ENGINEER')\n"
     ]
    }
   ],
   "source": [
    "## querying the  data from the table\n",
    "cursor.execute('''\n",
    "Select * from employees\n",
    "''')\n",
    "rows = cursor.fetchall()\n",
    "\n",
    "## print the queried data\n",
    "for ele in rows:\n",
    "    print(ele)"
   ]
  },
  {
   "cell_type": "code",
   "execution_count": 12,
   "id": "d30b7c88-5d7b-4458-bf3a-c7641b4414b9",
   "metadata": {},
   "outputs": [],
   "source": [
    "## working with sales data\n",
    "connection = sq.connect('sales_data.db')\n",
    "cursor = connection.cursor()\n",
    "\n",
    "## create a table for sales data\n",
    "cursor.execute('''\n",
    "CREATE TABLE IF NOT EXISTS sales(\n",
    "\n",
    "id INTEGER PRIMARY KEY,\n",
    "date TEXT NOT NULL,\n",
    "product TEXT NOT  NULL,\n",
    "sales INTEGER,\n",
    "region TEXT\n",
    "\n",
    ")\n",
    "''')\n",
    "sales_data = [\n",
    "    ('2023-01-01','Product1',100,'North'),\n",
    "    ('2023-01-02','Product2',100,'South'),\n",
    "    ('2023-01-03','Product1',100,'East'),\n",
    "    ('2023-01-04','Product3',100,'West'),\n",
    "    ('2023-01-05','Product2',100,'North'),\n",
    "]\n",
    "\n",
    "cursor.executemany('''\n",
    "Insert into sales(date,product,sales,region)\n",
    "values(?,?,?,?)\n",
    "''',sales_data)\n",
    "connection.commit()"
   ]
  },
  {
   "cell_type": "code",
   "execution_count": 13,
   "id": "24e65d53-759c-41c0-8380-4ef856bd58c7",
   "metadata": {},
   "outputs": [],
   "source": [
    "# close the connection \n",
    "connection.close()"
   ]
  },
  {
   "cell_type": "code",
   "execution_count": null,
   "id": "99801578-4bd2-4158-b2ae-b21f58705e4d",
   "metadata": {},
   "outputs": [],
   "source": []
  }
 ],
 "metadata": {
  "kernelspec": {
   "display_name": "Python 3 (ipykernel)",
   "language": "python",
   "name": "python3"
  },
  "language_info": {
   "codemirror_mode": {
    "name": "ipython",
    "version": 3
   },
   "file_extension": ".py",
   "mimetype": "text/x-python",
   "name": "python",
   "nbconvert_exporter": "python",
   "pygments_lexer": "ipython3",
   "version": "3.12.4"
  }
 },
 "nbformat": 4,
 "nbformat_minor": 5
}
