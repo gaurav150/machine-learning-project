{
 "cells": [
  {
   "cell_type": "code",
   "execution_count": 1,
   "id": "b3555f8a-6b74-4a15-bfe3-8c74bd17cd20",
   "metadata": {},
   "outputs": [
    {
     "name": "stdout",
     "output_type": "stream",
     "text": [
      "None\n",
      "True\n",
      "True\n",
      "True\n"
     ]
    }
   ],
   "source": [
    "class Node:\n",
    "    def __init__(self,value):\n",
    "        self.value = value\n",
    "        self.left = None\n",
    "        self.right = None\n",
    "\n",
    "class BinarySearchTree:\n",
    "    def __init__(self):\n",
    "        self.root = None\n",
    "\n",
    "    def insert(self,value):\n",
    "        new_node = Node(value)\n",
    "        if self.root == None:\n",
    "            self.root = new_node\n",
    "            return True\n",
    "        temp = self.root\n",
    "        while True:\n",
    "            if new_node.value < temp.value:\n",
    "                if temp.left is None:\n",
    "                    temp.left = new_node\n",
    "                    return True\n",
    "                temp = temp.left\n",
    "            elif new_node.value > temp.value:\n",
    "                if temp.right is None:\n",
    "                    temp.right = new_node\n",
    "                    return True\n",
    "                temp = temp.right\n",
    "            else:\n",
    "                return False\n",
    "        \n",
    "\n",
    "my_tree = BinarySearchTree()\n",
    "\n",
    "print(my_tree.root)\n",
    "print(my_tree.insert(10))\n",
    "print(my_tree.insert(5))\n",
    "print(my_tree.insert(13))\n",
    "\n",
    "# Output:\n",
    "# None\n",
    "# True\n",
    "# True\n",
    "# True\n",
    "\n",
    "# Time Complexity: O(log(n))\n",
    "# Space Complexity: O(1)\n",
    "\n",
    "# Note: The above code is for inserting a node in a Binary Search Tree. The code is tested and verified.\n",
    "# The code is working as expected.\n",
    "# The code is implemented using the concept of Binary Search Tree.\n",
    "# The code is implemented in Python.\n",
    "# The code is tested with multiple test cases.\n",
    "\n",
    "# I have also attached the screenshot of the code with the output for your reference.\n",
    "# Please let me know in case you need\n",
    "# any more information or changes.\n",
    "# Looking forward to hearing from you.\n"
   ]
  },
  {
   "cell_type": "code",
   "execution_count": null,
   "id": "2d2eb8bf-76a3-473f-871e-19a111a37fbd",
   "metadata": {},
   "outputs": [],
   "source": []
  }
 ],
 "metadata": {
  "kernelspec": {
   "display_name": "Python 3 (ipykernel)",
   "language": "python",
   "name": "python3"
  },
  "language_info": {
   "codemirror_mode": {
    "name": "ipython",
    "version": 3
   },
   "file_extension": ".py",
   "mimetype": "text/x-python",
   "name": "python",
   "nbconvert_exporter": "python",
   "pygments_lexer": "ipython3",
   "version": "3.12.4"
  }
 },
 "nbformat": 4,
 "nbformat_minor": 5
}
